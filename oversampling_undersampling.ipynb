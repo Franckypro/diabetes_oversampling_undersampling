{
 "cells": [
  {
   "cell_type": "markdown",
   "metadata": {},
   "source": [
    "# Importation des packages\n"
   ]
  },
  {
   "cell_type": "code",
   "execution_count": 159,
   "metadata": {},
   "outputs": [],
   "source": [
    "# Importer les modules nécessaires\n",
    "import numpy as np\n",
    "import pandas as pd\n",
    "from sklearn.linear_model import LogisticRegression\n",
    "from sklearn.model_selection import train_test_split\n",
    "from sklearn.metrics import accuracy_score\n",
    "import matplotlib.pyplot as plt\n",
    "import seaborn as sns"
   ]
  },
  {
   "cell_type": "markdown",
   "metadata": {},
   "source": [
    "# Chargement des données\n",
    "Les données concernent de diabet."
   ]
  },
  {
   "cell_type": "code",
   "execution_count": 160,
   "metadata": {},
   "outputs": [],
   "source": [
    "data=pd.read_csv(\"diabetes.csv\",sep=\",\",index_col=0)"
   ]
  },
  {
   "cell_type": "code",
   "execution_count": 161,
   "metadata": {},
   "outputs": [
    {
     "data": {
      "text/html": [
       "<div>\n",
       "<style scoped>\n",
       "    .dataframe tbody tr th:only-of-type {\n",
       "        vertical-align: middle;\n",
       "    }\n",
       "\n",
       "    .dataframe tbody tr th {\n",
       "        vertical-align: top;\n",
       "    }\n",
       "\n",
       "    .dataframe thead th {\n",
       "        text-align: right;\n",
       "    }\n",
       "</style>\n",
       "<table border=\"1\" class=\"dataframe\">\n",
       "  <thead>\n",
       "    <tr style=\"text-align: right;\">\n",
       "      <th></th>\n",
       "      <th>Glucose</th>\n",
       "      <th>BloodPressure</th>\n",
       "      <th>SkinThickness</th>\n",
       "      <th>Insulin</th>\n",
       "      <th>BMI</th>\n",
       "      <th>DiabetesPedigreeFunction</th>\n",
       "      <th>Age</th>\n",
       "      <th>Outcome</th>\n",
       "    </tr>\n",
       "    <tr>\n",
       "      <th>Pregnancies</th>\n",
       "      <th></th>\n",
       "      <th></th>\n",
       "      <th></th>\n",
       "      <th></th>\n",
       "      <th></th>\n",
       "      <th></th>\n",
       "      <th></th>\n",
       "      <th></th>\n",
       "    </tr>\n",
       "  </thead>\n",
       "  <tbody>\n",
       "    <tr>\n",
       "      <th>6</th>\n",
       "      <td>148</td>\n",
       "      <td>72</td>\n",
       "      <td>35</td>\n",
       "      <td>0</td>\n",
       "      <td>33.6</td>\n",
       "      <td>0.627</td>\n",
       "      <td>50</td>\n",
       "      <td>1</td>\n",
       "    </tr>\n",
       "    <tr>\n",
       "      <th>1</th>\n",
       "      <td>85</td>\n",
       "      <td>66</td>\n",
       "      <td>29</td>\n",
       "      <td>0</td>\n",
       "      <td>26.6</td>\n",
       "      <td>0.351</td>\n",
       "      <td>31</td>\n",
       "      <td>0</td>\n",
       "    </tr>\n",
       "    <tr>\n",
       "      <th>8</th>\n",
       "      <td>183</td>\n",
       "      <td>64</td>\n",
       "      <td>0</td>\n",
       "      <td>0</td>\n",
       "      <td>23.3</td>\n",
       "      <td>0.672</td>\n",
       "      <td>32</td>\n",
       "      <td>1</td>\n",
       "    </tr>\n",
       "    <tr>\n",
       "      <th>1</th>\n",
       "      <td>89</td>\n",
       "      <td>66</td>\n",
       "      <td>23</td>\n",
       "      <td>94</td>\n",
       "      <td>28.1</td>\n",
       "      <td>0.167</td>\n",
       "      <td>21</td>\n",
       "      <td>0</td>\n",
       "    </tr>\n",
       "    <tr>\n",
       "      <th>0</th>\n",
       "      <td>137</td>\n",
       "      <td>40</td>\n",
       "      <td>35</td>\n",
       "      <td>168</td>\n",
       "      <td>43.1</td>\n",
       "      <td>2.288</td>\n",
       "      <td>33</td>\n",
       "      <td>1</td>\n",
       "    </tr>\n",
       "  </tbody>\n",
       "</table>\n",
       "</div>"
      ],
      "text/plain": [
       "             Glucose  BloodPressure  SkinThickness  Insulin   BMI  \\\n",
       "Pregnancies                                                         \n",
       "6                148             72             35        0  33.6   \n",
       "1                 85             66             29        0  26.6   \n",
       "8                183             64              0        0  23.3   \n",
       "1                 89             66             23       94  28.1   \n",
       "0                137             40             35      168  43.1   \n",
       "\n",
       "             DiabetesPedigreeFunction  Age  Outcome  \n",
       "Pregnancies                                          \n",
       "6                               0.627   50        1  \n",
       "1                               0.351   31        0  \n",
       "8                               0.672   32        1  \n",
       "1                               0.167   21        0  \n",
       "0                               2.288   33        1  "
      ]
     },
     "execution_count": 161,
     "metadata": {},
     "output_type": "execute_result"
    }
   ],
   "source": [
    "data.head()"
   ]
  },
  {
   "cell_type": "code",
   "execution_count": 162,
   "metadata": {},
   "outputs": [
    {
     "data": {
      "text/plain": [
       "Pregnancies\n",
       "6     False\n",
       "1     False\n",
       "8     False\n",
       "1     False\n",
       "0     False\n",
       "      ...  \n",
       "10    False\n",
       "2     False\n",
       "5     False\n",
       "1     False\n",
       "1     False\n",
       "Length: 768, dtype: bool"
      ]
     },
     "execution_count": 162,
     "metadata": {},
     "output_type": "execute_result"
    }
   ],
   "source": [
    "# Trouve et Suppression des doublons \n",
    "duplicates = data.duplicated()\n",
    "duplicates"
   ]
  },
  {
   "cell_type": "code",
   "execution_count": 163,
   "metadata": {},
   "outputs": [
    {
     "data": {
      "text/plain": [
       "False    768\n",
       "dtype: int64"
      ]
     },
     "execution_count": 163,
     "metadata": {},
     "output_type": "execute_result"
    }
   ],
   "source": [
    "# Compte des lignes dupliquées et non dupliquées\n",
    "duplicates.value_counts()"
   ]
  },
  {
   "cell_type": "code",
   "execution_count": 164,
   "metadata": {},
   "outputs": [
    {
     "data": {
      "text/html": [
       "<div>\n",
       "<style scoped>\n",
       "    .dataframe tbody tr th:only-of-type {\n",
       "        vertical-align: middle;\n",
       "    }\n",
       "\n",
       "    .dataframe tbody tr th {\n",
       "        vertical-align: top;\n",
       "    }\n",
       "\n",
       "    .dataframe thead th {\n",
       "        text-align: right;\n",
       "    }\n",
       "</style>\n",
       "<table border=\"1\" class=\"dataframe\">\n",
       "  <thead>\n",
       "    <tr style=\"text-align: right;\">\n",
       "      <th></th>\n",
       "      <th>Glucose</th>\n",
       "      <th>BloodPressure</th>\n",
       "      <th>SkinThickness</th>\n",
       "      <th>Insulin</th>\n",
       "      <th>BMI</th>\n",
       "      <th>DiabetesPedigreeFunction</th>\n",
       "      <th>Age</th>\n",
       "      <th>Outcome</th>\n",
       "    </tr>\n",
       "    <tr>\n",
       "      <th>Pregnancies</th>\n",
       "      <th></th>\n",
       "      <th></th>\n",
       "      <th></th>\n",
       "      <th></th>\n",
       "      <th></th>\n",
       "      <th></th>\n",
       "      <th></th>\n",
       "      <th></th>\n",
       "    </tr>\n",
       "  </thead>\n",
       "  <tbody>\n",
       "    <tr>\n",
       "      <th>6</th>\n",
       "      <td>148</td>\n",
       "      <td>72</td>\n",
       "      <td>35</td>\n",
       "      <td>0</td>\n",
       "      <td>33.6</td>\n",
       "      <td>0.627</td>\n",
       "      <td>50</td>\n",
       "      <td>1</td>\n",
       "    </tr>\n",
       "    <tr>\n",
       "      <th>1</th>\n",
       "      <td>85</td>\n",
       "      <td>66</td>\n",
       "      <td>29</td>\n",
       "      <td>0</td>\n",
       "      <td>26.6</td>\n",
       "      <td>0.351</td>\n",
       "      <td>31</td>\n",
       "      <td>0</td>\n",
       "    </tr>\n",
       "    <tr>\n",
       "      <th>8</th>\n",
       "      <td>183</td>\n",
       "      <td>64</td>\n",
       "      <td>0</td>\n",
       "      <td>0</td>\n",
       "      <td>23.3</td>\n",
       "      <td>0.672</td>\n",
       "      <td>32</td>\n",
       "      <td>1</td>\n",
       "    </tr>\n",
       "    <tr>\n",
       "      <th>1</th>\n",
       "      <td>89</td>\n",
       "      <td>66</td>\n",
       "      <td>23</td>\n",
       "      <td>94</td>\n",
       "      <td>28.1</td>\n",
       "      <td>0.167</td>\n",
       "      <td>21</td>\n",
       "      <td>0</td>\n",
       "    </tr>\n",
       "    <tr>\n",
       "      <th>0</th>\n",
       "      <td>137</td>\n",
       "      <td>40</td>\n",
       "      <td>35</td>\n",
       "      <td>168</td>\n",
       "      <td>43.1</td>\n",
       "      <td>2.288</td>\n",
       "      <td>33</td>\n",
       "      <td>1</td>\n",
       "    </tr>\n",
       "  </tbody>\n",
       "</table>\n",
       "</div>"
      ],
      "text/plain": [
       "             Glucose  BloodPressure  SkinThickness  Insulin   BMI  \\\n",
       "Pregnancies                                                         \n",
       "6                148             72             35        0  33.6   \n",
       "1                 85             66             29        0  26.6   \n",
       "8                183             64              0        0  23.3   \n",
       "1                 89             66             23       94  28.1   \n",
       "0                137             40             35      168  43.1   \n",
       "\n",
       "             DiabetesPedigreeFunction  Age  Outcome  \n",
       "Pregnancies                                          \n",
       "6                               0.627   50        1  \n",
       "1                               0.351   31        0  \n",
       "8                               0.672   32        1  \n",
       "1                               0.167   21        0  \n",
       "0                               2.288   33        1  "
      ]
     },
     "execution_count": 164,
     "metadata": {},
     "output_type": "execute_result"
    }
   ],
   "source": [
    "# Enlevons les lignes dupliquées - par rapport à la colonne -\"age\"-en gardant la 1e ligne\n",
    "data = data.drop_duplicates(subset = [\"Age\"],keep=\"first\")\n",
    "data.head()"
   ]
  },
  {
   "cell_type": "markdown",
   "metadata": {},
   "source": [
    "# Qualité des données"
   ]
  },
  {
   "cell_type": "code",
   "execution_count": 165,
   "metadata": {},
   "outputs": [
    {
     "name": "stdout",
     "output_type": "stream",
     "text": [
      "<class 'pandas.core.frame.DataFrame'>\n",
      "Int64Index: 52 entries, 6 to 8\n",
      "Data columns (total 8 columns):\n",
      " #   Column                    Non-Null Count  Dtype  \n",
      "---  ------                    --------------  -----  \n",
      " 0   Glucose                   52 non-null     int64  \n",
      " 1   BloodPressure             52 non-null     int64  \n",
      " 2   SkinThickness             52 non-null     int64  \n",
      " 3   Insulin                   52 non-null     int64  \n",
      " 4   BMI                       52 non-null     float64\n",
      " 5   DiabetesPedigreeFunction  52 non-null     float64\n",
      " 6   Age                       52 non-null     int64  \n",
      " 7   Outcome                   52 non-null     int64  \n",
      "dtypes: float64(2), int64(6)\n",
      "memory usage: 3.7 KB\n"
     ]
    }
   ],
   "source": [
    "data.info()"
   ]
  },
  {
   "cell_type": "code",
   "execution_count": 166,
   "metadata": {},
   "outputs": [
    {
     "data": {
      "text/html": [
       "<div>\n",
       "<style scoped>\n",
       "    .dataframe tbody tr th:only-of-type {\n",
       "        vertical-align: middle;\n",
       "    }\n",
       "\n",
       "    .dataframe tbody tr th {\n",
       "        vertical-align: top;\n",
       "    }\n",
       "\n",
       "    .dataframe thead th {\n",
       "        text-align: right;\n",
       "    }\n",
       "</style>\n",
       "<table border=\"1\" class=\"dataframe\">\n",
       "  <thead>\n",
       "    <tr style=\"text-align: right;\">\n",
       "      <th></th>\n",
       "      <th>Glucose</th>\n",
       "      <th>BloodPressure</th>\n",
       "      <th>SkinThickness</th>\n",
       "      <th>Insulin</th>\n",
       "      <th>BMI</th>\n",
       "      <th>DiabetesPedigreeFunction</th>\n",
       "      <th>Age</th>\n",
       "      <th>Outcome</th>\n",
       "    </tr>\n",
       "  </thead>\n",
       "  <tbody>\n",
       "    <tr>\n",
       "      <th>count</th>\n",
       "      <td>52.000000</td>\n",
       "      <td>52.000000</td>\n",
       "      <td>52.000000</td>\n",
       "      <td>52.000000</td>\n",
       "      <td>52.000000</td>\n",
       "      <td>52.000000</td>\n",
       "      <td>52.000000</td>\n",
       "      <td>52.000000</td>\n",
       "    </tr>\n",
       "    <tr>\n",
       "      <th>mean</th>\n",
       "      <td>135.403846</td>\n",
       "      <td>72.115385</td>\n",
       "      <td>14.403846</td>\n",
       "      <td>73.596154</td>\n",
       "      <td>30.709615</td>\n",
       "      <td>0.583058</td>\n",
       "      <td>46.692308</td>\n",
       "      <td>0.480769</td>\n",
       "    </tr>\n",
       "    <tr>\n",
       "      <th>std</th>\n",
       "      <td>31.879220</td>\n",
       "      <td>21.260895</td>\n",
       "      <td>16.625352</td>\n",
       "      <td>158.330785</td>\n",
       "      <td>8.486789</td>\n",
       "      <td>0.460902</td>\n",
       "      <td>15.530537</td>\n",
       "      <td>0.504505</td>\n",
       "    </tr>\n",
       "    <tr>\n",
       "      <th>min</th>\n",
       "      <td>44.000000</td>\n",
       "      <td>0.000000</td>\n",
       "      <td>0.000000</td>\n",
       "      <td>0.000000</td>\n",
       "      <td>0.000000</td>\n",
       "      <td>0.134000</td>\n",
       "      <td>21.000000</td>\n",
       "      <td>0.000000</td>\n",
       "    </tr>\n",
       "    <tr>\n",
       "      <th>25%</th>\n",
       "      <td>115.750000</td>\n",
       "      <td>66.000000</td>\n",
       "      <td>0.000000</td>\n",
       "      <td>0.000000</td>\n",
       "      <td>26.750000</td>\n",
       "      <td>0.254750</td>\n",
       "      <td>33.750000</td>\n",
       "      <td>0.000000</td>\n",
       "    </tr>\n",
       "    <tr>\n",
       "      <th>50%</th>\n",
       "      <td>135.500000</td>\n",
       "      <td>76.000000</td>\n",
       "      <td>0.000000</td>\n",
       "      <td>0.000000</td>\n",
       "      <td>32.000000</td>\n",
       "      <td>0.477000</td>\n",
       "      <td>46.500000</td>\n",
       "      <td>0.000000</td>\n",
       "    </tr>\n",
       "    <tr>\n",
       "      <th>75%</th>\n",
       "      <td>158.000000</td>\n",
       "      <td>82.500000</td>\n",
       "      <td>31.250000</td>\n",
       "      <td>89.500000</td>\n",
       "      <td>35.700000</td>\n",
       "      <td>0.698000</td>\n",
       "      <td>59.250000</td>\n",
       "      <td>1.000000</td>\n",
       "    </tr>\n",
       "    <tr>\n",
       "      <th>max</th>\n",
       "      <td>197.000000</td>\n",
       "      <td>104.000000</td>\n",
       "      <td>47.000000</td>\n",
       "      <td>846.000000</td>\n",
       "      <td>43.100000</td>\n",
       "      <td>2.288000</td>\n",
       "      <td>81.000000</td>\n",
       "      <td>1.000000</td>\n",
       "    </tr>\n",
       "  </tbody>\n",
       "</table>\n",
       "</div>"
      ],
      "text/plain": [
       "          Glucose  BloodPressure  SkinThickness     Insulin        BMI  \\\n",
       "count   52.000000      52.000000      52.000000   52.000000  52.000000   \n",
       "mean   135.403846      72.115385      14.403846   73.596154  30.709615   \n",
       "std     31.879220      21.260895      16.625352  158.330785   8.486789   \n",
       "min     44.000000       0.000000       0.000000    0.000000   0.000000   \n",
       "25%    115.750000      66.000000       0.000000    0.000000  26.750000   \n",
       "50%    135.500000      76.000000       0.000000    0.000000  32.000000   \n",
       "75%    158.000000      82.500000      31.250000   89.500000  35.700000   \n",
       "max    197.000000     104.000000      47.000000  846.000000  43.100000   \n",
       "\n",
       "       DiabetesPedigreeFunction        Age    Outcome  \n",
       "count                 52.000000  52.000000  52.000000  \n",
       "mean                   0.583058  46.692308   0.480769  \n",
       "std                    0.460902  15.530537   0.504505  \n",
       "min                    0.134000  21.000000   0.000000  \n",
       "25%                    0.254750  33.750000   0.000000  \n",
       "50%                    0.477000  46.500000   0.000000  \n",
       "75%                    0.698000  59.250000   1.000000  \n",
       "max                    2.288000  81.000000   1.000000  "
      ]
     },
     "execution_count": 166,
     "metadata": {},
     "output_type": "execute_result"
    }
   ],
   "source": [
    "data.describe(include=\"all\")"
   ]
  },
  {
   "cell_type": "code",
   "execution_count": 167,
   "metadata": {},
   "outputs": [
    {
     "data": {
      "text/plain": [
       "Glucose                     0\n",
       "BloodPressure               0\n",
       "SkinThickness               0\n",
       "Insulin                     0\n",
       "BMI                         0\n",
       "DiabetesPedigreeFunction    0\n",
       "Age                         0\n",
       "Outcome                     0\n",
       "dtype: int64"
      ]
     },
     "execution_count": 167,
     "metadata": {},
     "output_type": "execute_result"
    }
   ],
   "source": [
    "data.isnull().sum()"
   ]
  },
  {
   "cell_type": "code",
   "execution_count": 168,
   "metadata": {},
   "outputs": [
    {
     "data": {
      "text/plain": [
       "Index(['Glucose', 'BloodPressure', 'SkinThickness', 'Insulin', 'BMI',\n",
       "       'DiabetesPedigreeFunction', 'Age', 'Outcome'],\n",
       "      dtype='object')"
      ]
     },
     "execution_count": 168,
     "metadata": {},
     "output_type": "execute_result"
    }
   ],
   "source": [
    "data.columns"
   ]
  },
  {
   "cell_type": "code",
   "execution_count": 169,
   "metadata": {},
   "outputs": [
    {
     "data": {
      "image/png": "[encoded data removed]",
      "text/plain": [
       "<Figure size 640x480 with 1 Axes>"
      ]
     },
     "metadata": {},
     "output_type": "display_data"
    }
   ],
   "source": [
    "# Sélectionner les variables catégorielles\n",
    "cat_vars = ['Outcome']\n",
    "\n",
    "\n",
    "# Générer un pie plot pour chaque variable catégorielle\n",
    "for var in cat_vars:\n",
    "    data[var].value_counts().plot(kind='pie', autopct='%1.1f%%')\n",
    "    plt.title(var)\n",
    "    plt.axis('equal')\n",
    "    plt.show()"
   ]
  },
  {
   "cell_type": "markdown",
   "metadata": {},
   "source": []
  },
  {
   "cell_type": "code",
   "execution_count": 170,
   "metadata": {},
   "outputs": [
    {
     "name": "stdout",
     "output_type": "stream",
     "text": [
      "                   Variable       Chi2  P-valeur  V de Cramer\n",
      "1             BloodPressure  30.568296  0.105293     0.399511\n",
      "4                       BMI  47.994074  0.391929     0.146363\n",
      "3                   Insulin  15.621862  0.407618     0.080180\n",
      "0                   Glucose  43.320494  0.543288     0.000000\n",
      "2             SkinThickness  17.207791  0.575793     0.000000\n",
      "5  DiabetesPedigreeFunction  47.326420  0.500352     0.000000\n",
      "6                       Age  52.000000  0.434732          NaN\n"
     ]
    },
    {
     "name": "stderr",
     "output_type": "stream",
     "text": [
      "C:\\Users\\ffoue\\AppData\\Local\\Temp\\ipykernel_35136\\2271676786.py:24: RuntimeWarning: invalid value encountered in double_scalars\n",
      "  cramer_v = np.sqrt(phi2corr/min(rc-1,kc-1))\n"
     ]
    }
   ],
   "source": [
    "from scipy.stats import chi2_contingency\n",
    "# Sélectionner les variables catégorielles\n",
    "cat_vars = ['Glucose', 'BloodPressure', 'SkinThickness', 'Insulin', 'BMI','DiabetesPedigreeFunction', 'Age']\n",
    "\n",
    "# Initialiser les listes pour stocker les résultats\n",
    "var_names = []\n",
    "chi2_stats = []\n",
    "p_values = []\n",
    "cramer_vs = []\n",
    "\n",
    "# Parcourir toutes les variables catégorielles\n",
    "for var in cat_vars:\n",
    "    # Calculer le tableau de contingence\n",
    "    contingency_table = pd.crosstab(data['Outcome'],data[var])\n",
    "    # Calculer la statistique de test du Chi-deux et la p-valeur\n",
    "    chi2, p, dof, expected = chi2_contingency(contingency_table)\n",
    "    # Calculer le coefficient V de Cramer\n",
    "    n = contingency_table.sum().sum()\n",
    "    phi2 = chi2/n\n",
    "    r,k = contingency_table.shape\n",
    "    phi2corr = max(0, phi2-((k-1)*(r-1))/(n-1))\n",
    "    rc = r-((r-1)**2)/(n-1)\n",
    "    kc = k-((k-1)**2)/(n-1)\n",
    "    cramer_v = np.sqrt(phi2corr/min(rc-1,kc-1))\n",
    "    # Ajouter les résultats aux listes correspondantes\n",
    "    var_names.append(var)\n",
    "    chi2_stats.append(chi2)\n",
    "    p_values.append(p)\n",
    "    cramer_vs.append(cramer_v)\n",
    "\n",
    "# Créer un DataFrame avec les résultats\n",
    "results_df = pd.DataFrame({\n",
    "    'Variable': var_names,\n",
    "    'Chi2': chi2_stats,\n",
    "    'P-valeur': p_values,\n",
    "    'V de Cramer': cramer_vs\n",
    "})\n",
    "\n",
    "# Trier le DataFrame par ordre croissant de V de Cramer\n",
    "results_df.sort_values(by='V de Cramer', inplace=True,ascending=False)\n",
    "\n",
    "# Afficher le tableau des résultats\n",
    "print(results_df)"
   ]
  },
  {
   "cell_type": "code",
   "execution_count": 171,
   "metadata": {},
   "outputs": [
    {
     "data": {
      "text/plain": [
       "<AxesSubplot:xlabel='Age', ylabel='Glucose'>"
      ]
     },
     "execution_count": 171,
     "metadata": {},
     "output_type": "execute_result"
    },
    {
     "data": {
      "image/png": "[encoded data removed]",
      "text/plain": [
       "<Figure size 640x480 with 1 Axes>"
      ]
     },
     "metadata": {},
     "output_type": "display_data"
    }
   ],
   "source": [
    "#faire un scatterplot pour afficher les classes \n",
    "\n",
    "sns.scatterplot(x=\"Age\", y = \"Glucose\", data = data, hue=\"Outcome\")"
   ]
  },
  {
   "cell_type": "code",
   "execution_count": 172,
   "metadata": {},
   "outputs": [
    {
     "data": {
      "text/plain": [
       "<AxesSubplot:>"
      ]
     },
     "execution_count": 172,
     "metadata": {},
     "output_type": "execute_result"
    },
    {
     "data": {
      "image/png": "[encoded data removed]",
      "text/plain": [
       "<Figure size 1000x1000 with 2 Axes>"
      ]
     },
     "metadata": {},
     "output_type": "display_data"
    }
   ],
   "source": [
    "# matrixe de correlation\n",
    "figure = plt.figure(figsize=(10,10)) \n",
    "sns.heatmap(data.corr(), annot= True)"
   ]
  },
  {
   "cell_type": "markdown",
   "metadata": {},
   "source": [
    "# Modélisation"
   ]
  },
  {
   "cell_type": "code",
   "execution_count": 173,
   "metadata": {},
   "outputs": [],
   "source": [
    "# séparer le futur du Target \n",
    "\n",
    "X = data.drop(['Outcome'], axis=1)\n",
    "y = data[['Outcome']]"
   ]
  },
  {
   "cell_type": "code",
   "execution_count": 174,
   "metadata": {},
   "outputs": [],
   "source": [
    "# Diviser les données en ensembles d'apprentissage et de test\n",
    "X_train, X_test, y_train, y_test = train_test_split(X,y,test_size=0.33, random_state=123)"
   ]
  },
  {
   "cell_type": "code",
   "execution_count": 175,
   "metadata": {},
   "outputs": [
    {
     "data": {
      "text/html": [
       "<div>\n",
       "<style scoped>\n",
       "    .dataframe tbody tr th:only-of-type {\n",
       "        vertical-align: middle;\n",
       "    }\n",
       "\n",
       "    .dataframe tbody tr th {\n",
       "        vertical-align: top;\n",
       "    }\n",
       "\n",
       "    .dataframe thead th {\n",
       "        text-align: right;\n",
       "    }\n",
       "</style>\n",
       "<table border=\"1\" class=\"dataframe\">\n",
       "  <thead>\n",
       "    <tr style=\"text-align: right;\">\n",
       "      <th></th>\n",
       "      <th>Glucose</th>\n",
       "      <th>BloodPressure</th>\n",
       "      <th>SkinThickness</th>\n",
       "      <th>Insulin</th>\n",
       "      <th>BMI</th>\n",
       "      <th>DiabetesPedigreeFunction</th>\n",
       "      <th>Age</th>\n",
       "    </tr>\n",
       "    <tr>\n",
       "      <th>Pregnancies</th>\n",
       "      <th></th>\n",
       "      <th></th>\n",
       "      <th></th>\n",
       "      <th></th>\n",
       "      <th></th>\n",
       "      <th></th>\n",
       "      <th></th>\n",
       "    </tr>\n",
       "  </thead>\n",
       "  <tbody>\n",
       "    <tr>\n",
       "      <th>3</th>\n",
       "      <td>78</td>\n",
       "      <td>50</td>\n",
       "      <td>32</td>\n",
       "      <td>88</td>\n",
       "      <td>31.0</td>\n",
       "      <td>0.248</td>\n",
       "      <td>26</td>\n",
       "    </tr>\n",
       "    <tr>\n",
       "      <th>7</th>\n",
       "      <td>105</td>\n",
       "      <td>0</td>\n",
       "      <td>0</td>\n",
       "      <td>0</td>\n",
       "      <td>0.0</td>\n",
       "      <td>0.305</td>\n",
       "      <td>24</td>\n",
       "    </tr>\n",
       "    <tr>\n",
       "      <th>5</th>\n",
       "      <td>147</td>\n",
       "      <td>78</td>\n",
       "      <td>0</td>\n",
       "      <td>0</td>\n",
       "      <td>33.7</td>\n",
       "      <td>0.218</td>\n",
       "      <td>65</td>\n",
       "    </tr>\n",
       "    <tr>\n",
       "      <th>7</th>\n",
       "      <td>106</td>\n",
       "      <td>92</td>\n",
       "      <td>18</td>\n",
       "      <td>0</td>\n",
       "      <td>22.7</td>\n",
       "      <td>0.235</td>\n",
       "      <td>48</td>\n",
       "    </tr>\n",
       "    <tr>\n",
       "      <th>9</th>\n",
       "      <td>184</td>\n",
       "      <td>85</td>\n",
       "      <td>15</td>\n",
       "      <td>0</td>\n",
       "      <td>30.0</td>\n",
       "      <td>1.213</td>\n",
       "      <td>49</td>\n",
       "    </tr>\n",
       "    <tr>\n",
       "      <th>7</th>\n",
       "      <td>196</td>\n",
       "      <td>90</td>\n",
       "      <td>0</td>\n",
       "      <td>0</td>\n",
       "      <td>39.8</td>\n",
       "      <td>0.451</td>\n",
       "      <td>41</td>\n",
       "    </tr>\n",
       "    <tr>\n",
       "      <th>7</th>\n",
       "      <td>159</td>\n",
       "      <td>64</td>\n",
       "      <td>0</td>\n",
       "      <td>0</td>\n",
       "      <td>27.4</td>\n",
       "      <td>0.294</td>\n",
       "      <td>40</td>\n",
       "    </tr>\n",
       "    <tr>\n",
       "      <th>8</th>\n",
       "      <td>120</td>\n",
       "      <td>78</td>\n",
       "      <td>0</td>\n",
       "      <td>0</td>\n",
       "      <td>25.0</td>\n",
       "      <td>0.409</td>\n",
       "      <td>64</td>\n",
       "    </tr>\n",
       "    <tr>\n",
       "      <th>10</th>\n",
       "      <td>115</td>\n",
       "      <td>0</td>\n",
       "      <td>0</td>\n",
       "      <td>0</td>\n",
       "      <td>35.3</td>\n",
       "      <td>0.134</td>\n",
       "      <td>29</td>\n",
       "    </tr>\n",
       "    <tr>\n",
       "      <th>3</th>\n",
       "      <td>158</td>\n",
       "      <td>76</td>\n",
       "      <td>36</td>\n",
       "      <td>245</td>\n",
       "      <td>31.6</td>\n",
       "      <td>0.851</td>\n",
       "      <td>28</td>\n",
       "    </tr>\n",
       "    <tr>\n",
       "      <th>4</th>\n",
       "      <td>145</td>\n",
       "      <td>82</td>\n",
       "      <td>18</td>\n",
       "      <td>0</td>\n",
       "      <td>32.5</td>\n",
       "      <td>0.235</td>\n",
       "      <td>70</td>\n",
       "    </tr>\n",
       "    <tr>\n",
       "      <th>1</th>\n",
       "      <td>89</td>\n",
       "      <td>66</td>\n",
       "      <td>23</td>\n",
       "      <td>94</td>\n",
       "      <td>28.1</td>\n",
       "      <td>0.167</td>\n",
       "      <td>21</td>\n",
       "    </tr>\n",
       "    <tr>\n",
       "      <th>9</th>\n",
       "      <td>102</td>\n",
       "      <td>76</td>\n",
       "      <td>37</td>\n",
       "      <td>0</td>\n",
       "      <td>32.9</td>\n",
       "      <td>0.665</td>\n",
       "      <td>46</td>\n",
       "    </tr>\n",
       "    <tr>\n",
       "      <th>4</th>\n",
       "      <td>146</td>\n",
       "      <td>78</td>\n",
       "      <td>0</td>\n",
       "      <td>0</td>\n",
       "      <td>38.5</td>\n",
       "      <td>0.520</td>\n",
       "      <td>67</td>\n",
       "    </tr>\n",
       "    <tr>\n",
       "      <th>0</th>\n",
       "      <td>137</td>\n",
       "      <td>40</td>\n",
       "      <td>35</td>\n",
       "      <td>168</td>\n",
       "      <td>43.1</td>\n",
       "      <td>2.288</td>\n",
       "      <td>33</td>\n",
       "    </tr>\n",
       "    <tr>\n",
       "      <th>7</th>\n",
       "      <td>147</td>\n",
       "      <td>76</td>\n",
       "      <td>0</td>\n",
       "      <td>0</td>\n",
       "      <td>39.4</td>\n",
       "      <td>0.257</td>\n",
       "      <td>43</td>\n",
       "    </tr>\n",
       "    <tr>\n",
       "      <th>2</th>\n",
       "      <td>119</td>\n",
       "      <td>0</td>\n",
       "      <td>0</td>\n",
       "      <td>0</td>\n",
       "      <td>19.6</td>\n",
       "      <td>0.832</td>\n",
       "      <td>72</td>\n",
       "    </tr>\n",
       "    <tr>\n",
       "      <th>3</th>\n",
       "      <td>126</td>\n",
       "      <td>88</td>\n",
       "      <td>41</td>\n",
       "      <td>235</td>\n",
       "      <td>39.3</td>\n",
       "      <td>0.704</td>\n",
       "      <td>27</td>\n",
       "    </tr>\n",
       "    <tr>\n",
       "      <th>8</th>\n",
       "      <td>91</td>\n",
       "      <td>82</td>\n",
       "      <td>0</td>\n",
       "      <td>0</td>\n",
       "      <td>35.6</td>\n",
       "      <td>0.587</td>\n",
       "      <td>68</td>\n",
       "    </tr>\n",
       "    <tr>\n",
       "      <th>7</th>\n",
       "      <td>133</td>\n",
       "      <td>84</td>\n",
       "      <td>0</td>\n",
       "      <td>0</td>\n",
       "      <td>40.2</td>\n",
       "      <td>0.696</td>\n",
       "      <td>37</td>\n",
       "    </tr>\n",
       "    <tr>\n",
       "      <th>3</th>\n",
       "      <td>128</td>\n",
       "      <td>78</td>\n",
       "      <td>0</td>\n",
       "      <td>0</td>\n",
       "      <td>21.1</td>\n",
       "      <td>0.268</td>\n",
       "      <td>55</td>\n",
       "    </tr>\n",
       "    <tr>\n",
       "      <th>17</th>\n",
       "      <td>163</td>\n",
       "      <td>72</td>\n",
       "      <td>41</td>\n",
       "      <td>114</td>\n",
       "      <td>40.9</td>\n",
       "      <td>0.817</td>\n",
       "      <td>47</td>\n",
       "    </tr>\n",
       "    <tr>\n",
       "      <th>8</th>\n",
       "      <td>125</td>\n",
       "      <td>96</td>\n",
       "      <td>0</td>\n",
       "      <td>0</td>\n",
       "      <td>0.0</td>\n",
       "      <td>0.232</td>\n",
       "      <td>54</td>\n",
       "    </tr>\n",
       "    <tr>\n",
       "      <th>0</th>\n",
       "      <td>146</td>\n",
       "      <td>82</td>\n",
       "      <td>0</td>\n",
       "      <td>0</td>\n",
       "      <td>40.5</td>\n",
       "      <td>1.781</td>\n",
       "      <td>44</td>\n",
       "    </tr>\n",
       "    <tr>\n",
       "      <th>8</th>\n",
       "      <td>133</td>\n",
       "      <td>72</td>\n",
       "      <td>0</td>\n",
       "      <td>0</td>\n",
       "      <td>32.9</td>\n",
       "      <td>0.270</td>\n",
       "      <td>39</td>\n",
       "    </tr>\n",
       "    <tr>\n",
       "      <th>11</th>\n",
       "      <td>138</td>\n",
       "      <td>76</td>\n",
       "      <td>0</td>\n",
       "      <td>0</td>\n",
       "      <td>33.2</td>\n",
       "      <td>0.420</td>\n",
       "      <td>35</td>\n",
       "    </tr>\n",
       "    <tr>\n",
       "      <th>5</th>\n",
       "      <td>162</td>\n",
       "      <td>104</td>\n",
       "      <td>0</td>\n",
       "      <td>0</td>\n",
       "      <td>37.7</td>\n",
       "      <td>0.151</td>\n",
       "      <td>52</td>\n",
       "    </tr>\n",
       "    <tr>\n",
       "      <th>5</th>\n",
       "      <td>109</td>\n",
       "      <td>75</td>\n",
       "      <td>26</td>\n",
       "      <td>0</td>\n",
       "      <td>36.0</td>\n",
       "      <td>0.546</td>\n",
       "      <td>60</td>\n",
       "    </tr>\n",
       "    <tr>\n",
       "      <th>1</th>\n",
       "      <td>97</td>\n",
       "      <td>66</td>\n",
       "      <td>15</td>\n",
       "      <td>140</td>\n",
       "      <td>23.2</td>\n",
       "      <td>0.487</td>\n",
       "      <td>22</td>\n",
       "    </tr>\n",
       "    <tr>\n",
       "      <th>0</th>\n",
       "      <td>105</td>\n",
       "      <td>84</td>\n",
       "      <td>0</td>\n",
       "      <td>0</td>\n",
       "      <td>27.9</td>\n",
       "      <td>0.741</td>\n",
       "      <td>62</td>\n",
       "    </tr>\n",
       "    <tr>\n",
       "      <th>5</th>\n",
       "      <td>44</td>\n",
       "      <td>62</td>\n",
       "      <td>0</td>\n",
       "      <td>0</td>\n",
       "      <td>25.0</td>\n",
       "      <td>0.587</td>\n",
       "      <td>36</td>\n",
       "    </tr>\n",
       "    <tr>\n",
       "      <th>0</th>\n",
       "      <td>180</td>\n",
       "      <td>66</td>\n",
       "      <td>39</td>\n",
       "      <td>0</td>\n",
       "      <td>42.0</td>\n",
       "      <td>1.893</td>\n",
       "      <td>25</td>\n",
       "    </tr>\n",
       "    <tr>\n",
       "      <th>8</th>\n",
       "      <td>183</td>\n",
       "      <td>64</td>\n",
       "      <td>0</td>\n",
       "      <td>0</td>\n",
       "      <td>23.3</td>\n",
       "      <td>0.672</td>\n",
       "      <td>32</td>\n",
       "    </tr>\n",
       "    <tr>\n",
       "      <th>3</th>\n",
       "      <td>142</td>\n",
       "      <td>80</td>\n",
       "      <td>15</td>\n",
       "      <td>0</td>\n",
       "      <td>32.4</td>\n",
       "      <td>0.200</td>\n",
       "      <td>63</td>\n",
       "    </tr>\n",
       "  </tbody>\n",
       "</table>\n",
       "</div>"
      ],
      "text/plain": [
       "             Glucose  BloodPressure  SkinThickness  Insulin   BMI  \\\n",
       "Pregnancies                                                         \n",
       "3                 78             50             32       88  31.0   \n",
       "7                105              0              0        0   0.0   \n",
       "5                147             78              0        0  33.7   \n",
       "7                106             92             18        0  22.7   \n",
       "9                184             85             15        0  30.0   \n",
       "7                196             90              0        0  39.8   \n",
       "7                159             64              0        0  27.4   \n",
       "8                120             78              0        0  25.0   \n",
       "10               115              0              0        0  35.3   \n",
       "3                158             76             36      245  31.6   \n",
       "4                145             82             18        0  32.5   \n",
       "1                 89             66             23       94  28.1   \n",
       "9                102             76             37        0  32.9   \n",
       "4                146             78              0        0  38.5   \n",
       "0                137             40             35      168  43.1   \n",
       "7                147             76              0        0  39.4   \n",
       "2                119              0              0        0  19.6   \n",
       "3                126             88             41      235  39.3   \n",
       "8                 91             82              0        0  35.6   \n",
       "7                133             84              0        0  40.2   \n",
       "3                128             78              0        0  21.1   \n",
       "17               163             72             41      114  40.9   \n",
       "8                125             96              0        0   0.0   \n",
       "0                146             82              0        0  40.5   \n",
       "8                133             72              0        0  32.9   \n",
       "11               138             76              0        0  33.2   \n",
       "5                162            104              0        0  37.7   \n",
       "5                109             75             26        0  36.0   \n",
       "1                 97             66             15      140  23.2   \n",
       "0                105             84              0        0  27.9   \n",
       "5                 44             62              0        0  25.0   \n",
       "0                180             66             39        0  42.0   \n",
       "8                183             64              0        0  23.3   \n",
       "3                142             80             15        0  32.4   \n",
       "\n",
       "             DiabetesPedigreeFunction  Age  \n",
       "Pregnancies                                 \n",
       "3                               0.248   26  \n",
       "7                               0.305   24  \n",
       "5                               0.218   65  \n",
       "7                               0.235   48  \n",
       "9                               1.213   49  \n",
       "7                               0.451   41  \n",
       "7                               0.294   40  \n",
       "8                               0.409   64  \n",
       "10                              0.134   29  \n",
       "3                               0.851   28  \n",
       "4                               0.235   70  \n",
       "1                               0.167   21  \n",
       "9                               0.665   46  \n",
       "4                               0.520   67  \n",
       "0                               2.288   33  \n",
       "7                               0.257   43  \n",
       "2                               0.832   72  \n",
       "3                               0.704   27  \n",
       "8                               0.587   68  \n",
       "7                               0.696   37  \n",
       "3                               0.268   55  \n",
       "17                              0.817   47  \n",
       "8                               0.232   54  \n",
       "0                               1.781   44  \n",
       "8                               0.270   39  \n",
       "11                              0.420   35  \n",
       "5                               0.151   52  \n",
       "5                               0.546   60  \n",
       "1                               0.487   22  \n",
       "0                               0.741   62  \n",
       "5                               0.587   36  \n",
       "0                               1.893   25  \n",
       "8                               0.672   32  \n",
       "3                               0.200   63  "
      ]
     },
     "execution_count": 175,
     "metadata": {},
     "output_type": "execute_result"
    }
   ],
   "source": [
    "X_train"
   ]
  },
  {
   "cell_type": "code",
   "execution_count": 176,
   "metadata": {},
   "outputs": [],
   "source": [
    "# Standardisation \n",
    "from sklearn.preprocessing import StandardScaler\n",
    "sc = StandardScaler()\n",
    "X_train = sc.fit_transform(X_train)\n",
    "X_test = sc.transform(X_test)"
   ]
  },
  {
   "cell_type": "code",
   "execution_count": 177,
   "metadata": {},
   "outputs": [
    {
     "data": {
      "text/plain": [
       "array([[-1.63696588, -0.78727002,  1.35099593,  0.82297636,  0.0359591 ,\n",
       "        -0.69943969, -1.22401594],\n",
       "       [-0.80488688, -2.8089604 , -0.75787577, -0.46756099, -3.07067133,\n",
       "        -0.58593156, -1.35406763],\n",
       "       [ 0.48945824,  0.34487659, -0.75787577, -0.46756099,  0.30653659,\n",
       "        -0.75918081,  1.31199208],\n",
       "       [-0.77406914,  0.9109499 ,  0.42836456, -0.46756099, -0.79581615,\n",
       "        -0.72532751,  0.20655269],\n",
       "       [ 1.62971465,  0.62791325,  0.23065784, -0.46756099, -0.06425479,\n",
       "         1.22223308,  0.27157854],\n",
       "       [ 1.99952754,  0.83008229, -0.75787577, -0.46756099,  0.91784129,\n",
       "        -0.29519143, -0.24862824],\n",
       "       [ 0.85927113, -0.22119671, -0.75787577, -0.46756099, -0.32481089,\n",
       "        -0.60783664, -0.31365408],\n",
       "       [-0.34262077,  0.34487659, -0.75787577, -0.46756099, -0.56532421,\n",
       "        -0.378829  ,  1.24696624],\n",
       "       [-0.49670947, -2.8089604 , -0.75787577, -0.46756099,  0.46687881,\n",
       "        -0.92645595, -1.0289384 ],\n",
       "       [ 0.82845339,  0.26400898,  1.6146049 ,  3.12541231,  0.09608743,\n",
       "         0.50135687, -1.09396424],\n",
       "       [ 0.42782276,  0.50661182,  0.42836456, -0.46756099,  0.18627993,\n",
       "        -0.72532751,  1.63712132],\n",
       "       [-1.29797073, -0.1403291 ,  0.75787577,  0.91096754, -0.25466117,\n",
       "        -0.86074072, -1.54914517],\n",
       "       [-0.8973401 ,  0.26400898,  1.68050714, -0.46756099,  0.22636548,\n",
       "         0.13096191,  0.076501  ],\n",
       "       [ 0.4586405 ,  0.34487659, -0.75787577, -0.46756099,  0.78756324,\n",
       "        -0.15778685,  1.44204378],\n",
       "       [ 0.18128083, -1.1916081 ,  1.54870265,  1.99619213,  1.24854711,\n",
       "         3.36295663, -0.76883501],\n",
       "       [ 0.48945824,  0.26400898, -0.75787577, -0.46756099,  0.87775573,\n",
       "        -0.68151735, -0.11857654],\n",
       "       [-0.37343851, -2.8089604 , -0.75787577, -0.46756099, -1.10647919,\n",
       "         0.46352083,  1.76717301],\n",
       "       [-0.15771432,  0.74921467,  1.9441161 ,  2.97876033,  0.86773434,\n",
       "         0.20862537, -1.15899009],\n",
       "       [-1.23633525,  0.50661182, -0.75787577, -0.46756099,  0.49694297,\n",
       "        -0.02436501,  1.50706962],\n",
       "       [ 0.05800987,  0.58747944, -0.75787577, -0.46756099,  0.95792684,\n",
       "         0.1926944 , -0.50873162],\n",
       "       [-0.09607884,  0.34487659, -0.75787577, -0.46756099, -0.95615836,\n",
       "        -0.65961227,  0.66173362],\n",
       "       [ 0.98254209,  0.10227375,  1.9441161 ,  1.20427148,  1.02807656,\n",
       "         0.43365026,  0.14152684],\n",
       "       [-0.18853206,  1.07268513, -0.75787577, -0.46756099, -3.07067133,\n",
       "        -0.73130162,  0.59670777],\n",
       "       [ 0.4586405 ,  0.50661182, -0.75787577, -0.46756099,  0.98799101,\n",
       "         2.35333166, -0.0535507 ],\n",
       "       [ 0.05800987,  0.10227375, -0.75787577, -0.46756099,  0.22636548,\n",
       "        -0.65562953, -0.37867993],\n",
       "       [ 0.21209857,  0.26400898, -0.75787577, -0.46756099,  0.25642965,\n",
       "        -0.35692392, -0.63878332],\n",
       "       [ 0.95172435,  1.39615559, -0.75787577, -0.46756099,  0.70739213,\n",
       "        -0.89260265,  0.46665608],\n",
       "       [-0.68161592,  0.22357517,  0.95558249, -0.46756099,  0.53702852,\n",
       "        -0.10601121,  0.98686285],\n",
       "       [-1.05142881, -0.1403291 ,  0.23065784,  1.58556661, -0.7457092 ,\n",
       "        -0.22350208, -1.48411933],\n",
       "       [-0.80488688,  0.58747944, -0.75787577, -0.46756099, -0.27470394,\n",
       "         0.28230609,  1.11691454],\n",
       "       [-2.68476908, -0.30206433, -0.75787577, -0.46756099, -0.56532421,\n",
       "        -0.02436501, -0.57375747],\n",
       "       [ 1.50644369, -0.1403291 ,  1.81231162, -0.46756099,  1.13831183,\n",
       "         2.57636519, -1.28904179],\n",
       "       [ 1.59889691, -0.22119671, -0.75787577, -0.46756099, -0.73568781,\n",
       "         0.14490151, -0.83386086],\n",
       "       [ 0.33536953,  0.42574421,  0.23065784, -0.46756099,  0.17625854,\n",
       "        -0.79502549,  1.18194039]])"
      ]
     },
     "execution_count": 177,
     "metadata": {},
     "output_type": "execute_result"
    }
   ],
   "source": [
    "X_train"
   ]
  },
  {
   "cell_type": "code",
   "execution_count": 178,
   "metadata": {},
   "outputs": [
    {
     "name": "stderr",
     "output_type": "stream",
     "text": [
      "c:\\Users\\ffoue\\anaconda3\\lib\\site-packages\\sklearn\\neighbors\\_classification.py:198: DataConversionWarning: A column-vector y was passed when a 1d array was expected. Please change the shape of y to (n_samples,), for example using ravel().\n",
      "  return self._fit(X, y)\n"
     ]
    }
   ],
   "source": [
    "# Creation du modèle \n",
    "from sklearn.neighbors import KNeighborsClassifier\n",
    "classifier = KNeighborsClassifier()\n",
    "result = classifier.fit(X_train,y_train)"
   ]
  },
  {
   "cell_type": "code",
   "execution_count": 179,
   "metadata": {},
   "outputs": [
    {
     "name": "stdout",
     "output_type": "stream",
     "text": [
      "Cross Val Accuracis [0.41666667 0.45454545 0.72727273]\n"
     ]
    },
    {
     "name": "stderr",
     "output_type": "stream",
     "text": [
      "c:\\Users\\ffoue\\anaconda3\\lib\\site-packages\\sklearn\\neighbors\\_classification.py:198: DataConversionWarning: A column-vector y was passed when a 1d array was expected. Please change the shape of y to (n_samples,), for example using ravel().\n",
      "  return self._fit(X, y)\n",
      "c:\\Users\\ffoue\\anaconda3\\lib\\site-packages\\sklearn\\neighbors\\_classification.py:228: FutureWarning: Unlike other reduction functions (e.g. `skew`, `kurtosis`), the default behavior of `mode` typically preserves the axis it acts along. In SciPy 1.11.0, this behavior will change: the default value of `keepdims` will become False, the `axis` over which the statistic is taken will be eliminated, and the value None will no longer be accepted. Set `keepdims` to True or False to avoid this warning.\n",
      "  mode, _ = stats.mode(_y[neigh_ind, k], axis=1)\n",
      "c:\\Users\\ffoue\\anaconda3\\lib\\site-packages\\sklearn\\neighbors\\_classification.py:198: DataConversionWarning: A column-vector y was passed when a 1d array was expected. Please change the shape of y to (n_samples,), for example using ravel().\n",
      "  return self._fit(X, y)\n",
      "c:\\Users\\ffoue\\anaconda3\\lib\\site-packages\\sklearn\\neighbors\\_classification.py:228: FutureWarning: Unlike other reduction functions (e.g. `skew`, `kurtosis`), the default behavior of `mode` typically preserves the axis it acts along. In SciPy 1.11.0, this behavior will change: the default value of `keepdims` will become False, the `axis` over which the statistic is taken will be eliminated, and the value None will no longer be accepted. Set `keepdims` to True or False to avoid this warning.\n",
      "  mode, _ = stats.mode(_y[neigh_ind, k], axis=1)\n",
      "c:\\Users\\ffoue\\anaconda3\\lib\\site-packages\\sklearn\\neighbors\\_classification.py:198: DataConversionWarning: A column-vector y was passed when a 1d array was expected. Please change the shape of y to (n_samples,), for example using ravel().\n",
      "  return self._fit(X, y)\n",
      "c:\\Users\\ffoue\\anaconda3\\lib\\site-packages\\sklearn\\neighbors\\_classification.py:228: FutureWarning: Unlike other reduction functions (e.g. `skew`, `kurtosis`), the default behavior of `mode` typically preserves the axis it acts along. In SciPy 1.11.0, this behavior will change: the default value of `keepdims` will become False, the `axis` over which the statistic is taken will be eliminated, and the value None will no longer be accepted. Set `keepdims` to True or False to avoid this warning.\n",
      "  mode, _ = stats.mode(_y[neigh_ind, k], axis=1)\n"
     ]
    }
   ],
   "source": [
    "# Cross_validation \n",
    "\n",
    "from sklearn.model_selection import cross_val_score\n",
    "accuracies = cross_val_score(estimator= classifier,\n",
    "                             X=X_train, y= y_train, cv= 3)\n",
    "print ('Cross Val Accuracis', (accuracies))"
   ]
  },
  {
   "cell_type": "code",
   "execution_count": 180,
   "metadata": {},
   "outputs": [
    {
     "name": "stderr",
     "output_type": "stream",
     "text": [
      "c:\\Users\\ffoue\\anaconda3\\lib\\site-packages\\sklearn\\neighbors\\_classification.py:228: FutureWarning: Unlike other reduction functions (e.g. `skew`, `kurtosis`), the default behavior of `mode` typically preserves the axis it acts along. In SciPy 1.11.0, this behavior will change: the default value of `keepdims` will become False, the `axis` over which the statistic is taken will be eliminated, and the value None will no longer be accepted. Set `keepdims` to True or False to avoid this warning.\n",
      "  mode, _ = stats.mode(_y[neigh_ind, k], axis=1)\n",
      "c:\\Users\\ffoue\\anaconda3\\lib\\site-packages\\sklearn\\neighbors\\_classification.py:228: FutureWarning: Unlike other reduction functions (e.g. `skew`, `kurtosis`), the default behavior of `mode` typically preserves the axis it acts along. In SciPy 1.11.0, this behavior will change: the default value of `keepdims` will become False, the `axis` over which the statistic is taken will be eliminated, and the value None will no longer be accepted. Set `keepdims` to True or False to avoid this warning.\n",
      "  mode, _ = stats.mode(_y[neigh_ind, k], axis=1)\n"
     ]
    },
    {
     "data": {
      "image/png": "[encoded data removed]",
      "text/plain": [
       "<Figure size 1000x800 with 1 Axes>"
      ]
     },
     "metadata": {},
     "output_type": "display_data"
    }
   ],
   "source": [
    "from sklearn.metrics import roc_curve, auc\n",
    "# Obtenir les prédictions du modèle sur l'ensemble d'entraînement et de test\n",
    "y_train_pred = result.predict(X_train)\n",
    "y_test_pred = result.predict(X_test)\n",
    "\n",
    "# Calculer les courbes ROC et les aires sous la courbe (AUC)\n",
    "fpr_train, tpr_train, thresholds_train = roc_curve(y_train, y_train_pred)\n",
    "roc_auc_train = auc(fpr_train, tpr_train)\n",
    "\n",
    "fpr_test, tpr_test, thresholds_test = roc_curve(y_test, y_test_pred)\n",
    "roc_auc_test = auc(fpr_test, tpr_test)\n",
    "\n",
    "# Tracer les courbes ROC\n",
    "plt.figure(figsize=(10, 8))\n",
    "plt.plot(fpr_train, tpr_train, color='darkorange', lw=2, label='ROC curve (train) (AUC = %0.2f)' % roc_auc_train)\n",
    "plt.plot(fpr_test, tpr_test, color='green', lw=2, label='ROC curve (test) (AUC = %0.2f)' % roc_auc_test)\n",
    "plt.plot([0, 1], [0, 1], color='navy', lw=2, linestyle='--')\n",
    "plt.xlim([0.0, 1.0])\n",
    "plt.ylim([0.0, 1.05])\n",
    "plt.xlabel('Taux de faux positifs')\n",
    "plt.ylabel('Taux de vrais positifs')\n",
    "plt.title('Courbes ROC')\n",
    "plt.legend(loc=\"lower right\")\n",
    "plt.show()"
   ]
  },
  {
   "cell_type": "markdown",
   "metadata": {},
   "source": [
    "# Oversampling, Undersampling et Smote\n",
    "\n",
    "### Oversampling ou Suréchantillonnage\n",
    "\n",
    "L'oversampling est une technique de rééchantillonnage utilisée pour gérer les ensembles de données déséquilibrés en augmentant le nombre d'échantillons de la classe minoritaire. Cela peut être fait en dupliquant les échantillons existants ou en générant de nouveaux échantillons synthétiques à partir des données existantes, par exemple en utilisant des méthodes telles que SMOTE (Synthetic Minority Over-sampling Technique) ou ADASYN (Adaptive Synthetic Sampling).\n",
    "\n",
    "### Avantages\n",
    "\n",
    "- Améliore la performance du modèle sur la classe minoritaire en augmentant la quantité d'informations disponibles pour l'apprentissage.\n",
    "- Réduit le biais envers la classe majoritaire, ce qui peut améliorer la précision globale du modèle.\n",
    "- Facilite la découverte de modèles significatifs dans les données en permettant aux algorithmes d'apprentissage d'explorer plus en profondeur la structure de la classe minoritaire.\n",
    "\n",
    "### Inconvénients\n",
    "\n",
    "- Peut entraîner un surapprentissage, car les échantillons dupliqués ou synthétiques peuvent augmenter la complexité du modèle sans apporter d'informations nouvelles.\n",
    "- Augmente la taille de l'ensemble de données, ce qui peut augmenter les temps d'apprentissage et de prédiction."
   ]
  },
  {
   "cell_type": "markdown",
   "metadata": {},
   "source": [
    "## Analyses"
   ]
  },
  {
   "cell_type": "code",
   "execution_count": 181,
   "metadata": {},
   "outputs": [
    {
     "data": {
      "text/plain": [
       "array([[-1.63696588, -0.78727002,  1.35099593,  0.82297636,  0.0359591 ,\n",
       "        -0.69943969, -1.22401594],\n",
       "       [-0.80488688, -2.8089604 , -0.75787577, -0.46756099, -3.07067133,\n",
       "        -0.58593156, -1.35406763],\n",
       "       [ 0.48945824,  0.34487659, -0.75787577, -0.46756099,  0.30653659,\n",
       "        -0.75918081,  1.31199208],\n",
       "       [-0.77406914,  0.9109499 ,  0.42836456, -0.46756099, -0.79581615,\n",
       "        -0.72532751,  0.20655269],\n",
       "       [ 1.62971465,  0.62791325,  0.23065784, -0.46756099, -0.06425479,\n",
       "         1.22223308,  0.27157854],\n",
       "       [ 1.99952754,  0.83008229, -0.75787577, -0.46756099,  0.91784129,\n",
       "        -0.29519143, -0.24862824],\n",
       "       [ 0.85927113, -0.22119671, -0.75787577, -0.46756099, -0.32481089,\n",
       "        -0.60783664, -0.31365408],\n",
       "       [-0.34262077,  0.34487659, -0.75787577, -0.46756099, -0.56532421,\n",
       "        -0.378829  ,  1.24696624],\n",
       "       [-0.49670947, -2.8089604 , -0.75787577, -0.46756099,  0.46687881,\n",
       "        -0.92645595, -1.0289384 ],\n",
       "       [ 0.82845339,  0.26400898,  1.6146049 ,  3.12541231,  0.09608743,\n",
       "         0.50135687, -1.09396424],\n",
       "       [ 0.42782276,  0.50661182,  0.42836456, -0.46756099,  0.18627993,\n",
       "        -0.72532751,  1.63712132],\n",
       "       [-1.29797073, -0.1403291 ,  0.75787577,  0.91096754, -0.25466117,\n",
       "        -0.86074072, -1.54914517],\n",
       "       [-0.8973401 ,  0.26400898,  1.68050714, -0.46756099,  0.22636548,\n",
       "         0.13096191,  0.076501  ],\n",
       "       [ 0.4586405 ,  0.34487659, -0.75787577, -0.46756099,  0.78756324,\n",
       "        -0.15778685,  1.44204378],\n",
       "       [ 0.18128083, -1.1916081 ,  1.54870265,  1.99619213,  1.24854711,\n",
       "         3.36295663, -0.76883501],\n",
       "       [ 0.48945824,  0.26400898, -0.75787577, -0.46756099,  0.87775573,\n",
       "        -0.68151735, -0.11857654],\n",
       "       [-0.37343851, -2.8089604 , -0.75787577, -0.46756099, -1.10647919,\n",
       "         0.46352083,  1.76717301],\n",
       "       [-0.15771432,  0.74921467,  1.9441161 ,  2.97876033,  0.86773434,\n",
       "         0.20862537, -1.15899009],\n",
       "       [-1.23633525,  0.50661182, -0.75787577, -0.46756099,  0.49694297,\n",
       "        -0.02436501,  1.50706962],\n",
       "       [ 0.05800987,  0.58747944, -0.75787577, -0.46756099,  0.95792684,\n",
       "         0.1926944 , -0.50873162],\n",
       "       [-0.09607884,  0.34487659, -0.75787577, -0.46756099, -0.95615836,\n",
       "        -0.65961227,  0.66173362],\n",
       "       [ 0.98254209,  0.10227375,  1.9441161 ,  1.20427148,  1.02807656,\n",
       "         0.43365026,  0.14152684],\n",
       "       [-0.18853206,  1.07268513, -0.75787577, -0.46756099, -3.07067133,\n",
       "        -0.73130162,  0.59670777],\n",
       "       [ 0.4586405 ,  0.50661182, -0.75787577, -0.46756099,  0.98799101,\n",
       "         2.35333166, -0.0535507 ],\n",
       "       [ 0.05800987,  0.10227375, -0.75787577, -0.46756099,  0.22636548,\n",
       "        -0.65562953, -0.37867993],\n",
       "       [ 0.21209857,  0.26400898, -0.75787577, -0.46756099,  0.25642965,\n",
       "        -0.35692392, -0.63878332],\n",
       "       [ 0.95172435,  1.39615559, -0.75787577, -0.46756099,  0.70739213,\n",
       "        -0.89260265,  0.46665608],\n",
       "       [-0.68161592,  0.22357517,  0.95558249, -0.46756099,  0.53702852,\n",
       "        -0.10601121,  0.98686285],\n",
       "       [-1.05142881, -0.1403291 ,  0.23065784,  1.58556661, -0.7457092 ,\n",
       "        -0.22350208, -1.48411933],\n",
       "       [-0.80488688,  0.58747944, -0.75787577, -0.46756099, -0.27470394,\n",
       "         0.28230609,  1.11691454],\n",
       "       [-2.68476908, -0.30206433, -0.75787577, -0.46756099, -0.56532421,\n",
       "        -0.02436501, -0.57375747],\n",
       "       [ 1.50644369, -0.1403291 ,  1.81231162, -0.46756099,  1.13831183,\n",
       "         2.57636519, -1.28904179],\n",
       "       [ 1.59889691, -0.22119671, -0.75787577, -0.46756099, -0.73568781,\n",
       "         0.14490151, -0.83386086],\n",
       "       [ 0.33536953,  0.42574421,  0.23065784, -0.46756099,  0.17625854,\n",
       "        -0.79502549,  1.18194039]])"
      ]
     },
     "execution_count": 181,
     "metadata": {},
     "output_type": "execute_result"
    }
   ],
   "source": [
    "X_train"
   ]
  },
  {
   "cell_type": "code",
   "execution_count": 182,
   "metadata": {},
   "outputs": [],
   "source": [
    "# Importer les bibliothèques nécessaires\n",
    "from imblearn.over_sampling import RandomOverSampler\n",
    "from sklearn.model_selection import train_test_split\n",
    "\n",
    "\n",
    "# Diviser les données en ensembles d'apprentissage et de test\n",
    "X_train, X_test, y_train, y_test = train_test_split(X, y, test_size=0.2, random_state=123)\n",
    "\n",
    "\n",
    "# Initialiser l'objet RandomOverSampler\n",
    "ros = RandomOverSampler(sampling_strategy=1, random_state=123)\n",
    "\n",
    "# Appliquer l'oversampling sur les données d'apprentissage\n",
    "X_train_oversampled, y_train_oversampled = ros.fit_resample(X_train, y_train)\n",
    "\n",
    "# Créer un nouveau DataFrame avec les données oversampled\n",
    "data_oversampled = pd.concat([X_train_oversampled, y_train_oversampled], axis=1)"
   ]
  },
  {
   "cell_type": "code",
   "execution_count": 183,
   "metadata": {},
   "outputs": [
    {
     "data": {
      "image/png": "[encoded data removed]",
      "text/plain": [
       "<Figure size 640x480 with 1 Axes>"
      ]
     },
     "metadata": {},
     "output_type": "display_data"
    },
    {
     "data": {
      "image/png": "[encoded data removed]",
      "text/plain": [
       "<Figure size 640x480 with 1 Axes>"
      ]
     },
     "metadata": {},
     "output_type": "display_data"
    }
   ],
   "source": [
    "# Fonction pour créer un pie chart avec les proportions et les nombres\n",
    "def plot_pie_chart(y, title):\n",
    "    labels = ['0', '1']\n",
    "    sizes = y.value_counts().values\n",
    "    colors = ['#66b3ff', '#ff9999']\n",
    "    \n",
    "    # Modifier le format des labels pour inclure les proportions et les nombres\n",
    "    def autopct_format(pct, all_values):\n",
    "        absolute = int(round(pct / 100 * sum(all_values)))\n",
    "        return f\"{pct:.1f}% ({absolute})\"\n",
    "\n",
    "    fig, ax = plt.subplots()\n",
    "    ax.pie(sizes, labels=labels, colors=colors, autopct=lambda pct: autopct_format(pct, sizes), startangle=90)\n",
    "    ax.axis('equal')  # Pour assurer que le diagramme est bien rond\n",
    "    plt.title(title)\n",
    "    plt.show()\n",
    "\n",
    "# Créer un pie chart pour la table basique\n",
    "plot_pie_chart(y_train, \"Table basique\")\n",
    "\n",
    "# Créer un pie chart pour la table oversampled\n",
    "plot_pie_chart(y_train_oversampled, \"Table oversampled\")"
   ]
  },
  {
   "cell_type": "code",
   "execution_count": 184,
   "metadata": {},
   "outputs": [
    {
     "name": "stderr",
     "output_type": "stream",
     "text": [
      "c:\\Users\\ffoue\\anaconda3\\lib\\site-packages\\sklearn\\neighbors\\_classification.py:198: DataConversionWarning: A column-vector y was passed when a 1d array was expected. Please change the shape of y to (n_samples,), for example using ravel().\n",
      "  return self._fit(X, y)\n",
      "c:\\Users\\ffoue\\anaconda3\\lib\\site-packages\\sklearn\\neighbors\\_classification.py:228: FutureWarning: Unlike other reduction functions (e.g. `skew`, `kurtosis`), the default behavior of `mode` typically preserves the axis it acts along. In SciPy 1.11.0, this behavior will change: the default value of `keepdims` will become False, the `axis` over which the statistic is taken will be eliminated, and the value None will no longer be accepted. Set `keepdims` to True or False to avoid this warning.\n",
      "  mode, _ = stats.mode(_y[neigh_ind, k], axis=1)\n",
      "c:\\Users\\ffoue\\anaconda3\\lib\\site-packages\\sklearn\\neighbors\\_classification.py:228: FutureWarning: Unlike other reduction functions (e.g. `skew`, `kurtosis`), the default behavior of `mode` typically preserves the axis it acts along. In SciPy 1.11.0, this behavior will change: the default value of `keepdims` will become False, the `axis` over which the statistic is taken will be eliminated, and the value None will no longer be accepted. Set `keepdims` to True or False to avoid this warning.\n",
      "  mode, _ = stats.mode(_y[neigh_ind, k], axis=1)\n",
      "c:\\Users\\ffoue\\anaconda3\\lib\\site-packages\\sklearn\\neighbors\\_classification.py:198: DataConversionWarning: A column-vector y was passed when a 1d array was expected. Please change the shape of y to (n_samples,), for example using ravel().\n",
      "  return self._fit(X, y)\n",
      "c:\\Users\\ffoue\\anaconda3\\lib\\site-packages\\sklearn\\neighbors\\_classification.py:228: FutureWarning: Unlike other reduction functions (e.g. `skew`, `kurtosis`), the default behavior of `mode` typically preserves the axis it acts along. In SciPy 1.11.0, this behavior will change: the default value of `keepdims` will become False, the `axis` over which the statistic is taken will be eliminated, and the value None will no longer be accepted. Set `keepdims` to True or False to avoid this warning.\n",
      "  mode, _ = stats.mode(_y[neigh_ind, k], axis=1)\n",
      "c:\\Users\\ffoue\\anaconda3\\lib\\site-packages\\sklearn\\neighbors\\_classification.py:228: FutureWarning: Unlike other reduction functions (e.g. `skew`, `kurtosis`), the default behavior of `mode` typically preserves the axis it acts along. In SciPy 1.11.0, this behavior will change: the default value of `keepdims` will become False, the `axis` over which the statistic is taken will be eliminated, and the value None will no longer be accepted. Set `keepdims` to True or False to avoid this warning.\n",
      "  mode, _ = stats.mode(_y[neigh_ind, k], axis=1)\n"
     ]
    }
   ],
   "source": [
    "from sklearn.neighbors import KNeighborsClassifier\n",
    "from sklearn.metrics import roc_auc_score\n",
    "\n",
    "# Entraîner et évaluer le modèle sur la base basique\n",
    "Kn_basique = KNeighborsClassifier()\n",
    "Kn_basique = Kn_basique.fit(X_train, y_train)\n",
    "y_pred_basique = Kn_basique.predict(X_test)\n",
    "y_pred_basique_train = Kn_basique.predict(X_train)\n",
    "auc_basique = roc_auc_score(y_test, y_pred_basique)\n",
    "auc_train_basique = roc_auc_score(y_train, y_pred_basique_train)\n",
    "# Entraîner et évaluer la régression logistique sur la base oversampled\n",
    "Kn_oversampled = KNeighborsClassifier()\n",
    "Kn_oversampled = Kn_oversampled.fit(X_train_oversampled, y_train_oversampled)\n",
    "y_pred_oversampled = Kn_oversampled.predict(X_test)\n",
    "auc_oversampled = roc_auc_score(y_test, y_pred_oversampled)\n",
    "y_pred_oversampled_train = Kn_oversampled.predict(X_train_oversampled)\n",
    "auc_oversampled_train = roc_auc_score(y_train_oversampled, y_pred_oversampled_train)\n"
   ]
  },
  {
   "cell_type": "code",
   "execution_count": 185,
   "metadata": {},
   "outputs": [
    {
     "name": "stdout",
     "output_type": "stream",
     "text": [
      "             Modèle  AUC - Entraînement  AUC - Test\n",
      "0      Base basique            0.655952         0.8\n",
      "1  Base oversampled            0.666667         0.8\n"
     ]
    }
   ],
   "source": [
    "# Créer un DataFrame avec les performances\n",
    "performances = pd.DataFrame({\n",
    "    'Modèle': ['Base basique', 'Base oversampled'],\n",
    "    'AUC - Entraînement': [auc_train_basique, auc_oversampled_train],\n",
    "    'AUC - Test': [auc_basique, auc_oversampled]\n",
    "})\n",
    "\n",
    "# Afficher les performances\n",
    "print(performances)"
   ]
  },
  {
   "cell_type": "markdown",
   "metadata": {},
   "source": [
    "# Undersampling ou sous échantillonage\n",
    "\n",
    "L'undersampling est une technique de rééchantillonnage utilisée pour gérer les ensembles de données déséquilibrés en réduisant le nombre d'échantillons de la classe majoritaire. Cela peut être fait en supprimant aléatoirement des échantillons de la classe majoritaire ou en utilisant des méthodes plus sophistiquées telles que Tomek Links ou ENN (Edited Nearest Neighbors).\n",
    "\n",
    "### Avantages\n",
    "\n",
    "- Réduit la taille de l'ensemble de données, ce qui peut diminuer les temps d'apprentissage et de prédiction.\n",
    "- Peut améliorer la performance du modèle sur la classe minoritaire en réduisant le biais envers la classe majoritaire.\n",
    "- Élimine les échantillons bruyants ou redondants de la classe majoritaire, ce qui peut simplifier le modèle et éviter le surapprentissage.\n",
    "\n",
    "### Inconvénients\n",
    "\n",
    "- Peut entraîner une perte d'informations importantes en supprimant des échantillons de la classe majoritaire, ce qui peut nuire à la performance globale du modèle.\n",
    "- Ne résout pas toujours le problème du déséquilibre des classes ; dans certains cas, l'oversampling ou d'autres techniques de rééchantillonnage peuvent être plus appropriées.\n",
    "- Peut ne pas être efficace si la classe majoritaire contient de nombreuses sous-classes ou groupes distincts, car l'undersampling peut éliminer certains de ces groupes et réduire la capacité du modèle à les distinguer.\n",
    "\n",
    "### Analyse\n",
    "\n"
   ]
  },
  {
   "cell_type": "code",
   "execution_count": 186,
   "metadata": {},
   "outputs": [
    {
     "name": "stdout",
     "output_type": "stream",
     "text": [
      "0    20\n",
      "1    20\n",
      "Name: Outcome, dtype: int64\n"
     ]
    }
   ],
   "source": [
    "# Importer les bibliothèques nécessaires\n",
    "from imblearn.under_sampling import RandomUnderSampler\n",
    "\n",
    "# Initialiser l'objet RandomUnderSampler\n",
    "rus = RandomUnderSampler(sampling_strategy='auto', random_state=123)\n",
    "\n",
    "# Appliquer l'undersampling sur les données d'apprentissage\n",
    "X_train_undersampled, y_train_undersampled = rus.fit_resample(X_train, y_train)\n",
    "\n",
    "# Créer un nouveau DataFrame avec les données undersampled\n",
    "data_undersampled = pd.concat([X_train_undersampled, y_train_undersampled], axis=1)\n",
    "\n",
    "# Afficher la nouvelle distribution des données\n",
    "print(data_undersampled['Outcome'].value_counts())"
   ]
  },
  {
   "cell_type": "code",
   "execution_count": 187,
   "metadata": {},
   "outputs": [
    {
     "data": {
      "image/png": "[encoded data removed]",
      "text/plain": [
       "<Figure size 640x480 with 1 Axes>"
      ]
     },
     "metadata": {},
     "output_type": "display_data"
    }
   ],
   "source": [
    "# Créer un pie chart pour la table oversampled\n",
    "plot_pie_chart(y_train_undersampled, \"Table undersapled\")"
   ]
  },
  {
   "cell_type": "markdown",
   "metadata": {},
   "source": [
    "# Impact sur le modèle"
   ]
  },
  {
   "cell_type": "code",
   "execution_count": 188,
   "metadata": {},
   "outputs": [
    {
     "name": "stdout",
     "output_type": "stream",
     "text": [
      "              Modèle  AUC - Entraînement  AUC - Test\n",
      "0       Base basique            0.655952         0.8\n",
      "1   Base oversampled            0.666667         0.8\n",
      "2  Base undersampled            0.800000         0.8\n"
     ]
    },
    {
     "name": "stderr",
     "output_type": "stream",
     "text": [
      "c:\\Users\\ffoue\\anaconda3\\lib\\site-packages\\sklearn\\neighbors\\_classification.py:198: DataConversionWarning: A column-vector y was passed when a 1d array was expected. Please change the shape of y to (n_samples,), for example using ravel().\n",
      "  return self._fit(X, y)\n",
      "c:\\Users\\ffoue\\anaconda3\\lib\\site-packages\\sklearn\\neighbors\\_classification.py:228: FutureWarning: Unlike other reduction functions (e.g. `skew`, `kurtosis`), the default behavior of `mode` typically preserves the axis it acts along. In SciPy 1.11.0, this behavior will change: the default value of `keepdims` will become False, the `axis` over which the statistic is taken will be eliminated, and the value None will no longer be accepted. Set `keepdims` to True or False to avoid this warning.\n",
      "  mode, _ = stats.mode(_y[neigh_ind, k], axis=1)\n"
     ]
    }
   ],
   "source": [
    "# Entraîner et évaluer du modèle sur la base undersampled\n",
    "\n",
    "# Entraîner et évaluer la régression logistique sur la base oversampled\n",
    "from sklearn.neighbors import KNeighborsClassifier\n",
    "Kn_undersampled = KNeighborsClassifier()\n",
    "Kn_undersampled = Kn_undersampled.fit(X_train_undersampled, y_train_undersampled,)\n",
    "\n",
    "\n",
    "y_pred_undersampled = Kn_undersampled.predict(X_test)\n",
    "auc_undersampled = roc_auc_score(y_test, y_pred_undersampled)\n",
    "\n",
    "# Ajouter les performances de la base undersampled au DataFrame\n",
    "performances.loc[2] = ['Base undersampled', auc_undersampled, auc_undersampled]\n",
    "\n",
    "# Afficher les performances\n",
    "print(performances)"
   ]
  },
  {
   "cell_type": "code",
   "execution_count": 190,
   "metadata": {},
   "outputs": [],
   "source": [
    "# On peut conclure  que l'undersampling est la meilleure technique de rééchantillonnage utilisée pour gérer les ensembles de données déséquilibrés"
   ]
  },
  {
   "cell_type": "code",
   "execution_count": 191,
   "metadata": {},
   "outputs": [
    {
     "name": "stderr",
     "output_type": "stream",
     "text": [
      "c:\\Users\\ffoue\\anaconda3\\lib\\site-packages\\sklearn\\base.py:450: UserWarning: X does not have valid feature names, but StandardScaler was fitted with feature names\n",
      "  warnings.warn(\n",
      "c:\\Users\\ffoue\\anaconda3\\lib\\site-packages\\sklearn\\base.py:450: UserWarning: X does not have valid feature names, but KNeighborsClassifier was fitted with feature names\n",
      "  warnings.warn(\n",
      "c:\\Users\\ffoue\\anaconda3\\lib\\site-packages\\sklearn\\neighbors\\_classification.py:228: FutureWarning: Unlike other reduction functions (e.g. `skew`, `kurtosis`), the default behavior of `mode` typically preserves the axis it acts along. In SciPy 1.11.0, this behavior will change: the default value of `keepdims` will become False, the `axis` over which the statistic is taken will be eliminated, and the value None will no longer be accepted. Set `keepdims` to True or False to avoid this warning.\n",
      "  mode, _ = stats.mode(_y[neigh_ind, k], axis=1)\n"
     ]
    },
    {
     "data": {
      "text/plain": [
       "array([0], dtype=int64)"
      ]
     },
     "execution_count": 191,
     "metadata": {},
     "output_type": "execute_result"
    }
   ],
   "source": [
    "real_data = sc.transform(np.array([[132,57,34,0,27,2.1,32]]))\n",
    "predict_real_data = Kn_undersampled.predict(real_data)\n",
    "predict_real_data"
   ]
  }
 ],
 "metadata": {
  "kernelspec": {
   "display_name": "base",
   "language": "python",
   "name": "python3"
  },
  "language_info": {
   "codemirror_mode": {
    "name": "ipython",
    "version": 3
   },
   "file_extension": ".py",
   "mimetype": "text/x-python",
   "name": "python",
   "nbconvert_exporter": "python",
   "pygments_lexer": "ipython3",
   "version": "3.9.13"
  }
 },
 "nbformat": 4,
 "nbformat_minor": 2
}
